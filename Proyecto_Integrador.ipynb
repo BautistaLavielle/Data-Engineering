{
 "cells": [
  {
   "cell_type": "markdown",
   "metadata": {},
   "source": [
    "# **Proyecto Integrador**"
   ]
  },
  {
   "cell_type": "markdown",
   "metadata": {},
   "source": [
    "## **Pasos a Seguir**\n",
    "### **Creación del entorno virtual**\n",
    "Con el fin de aislar las dependencias o los requerimientos de nuestro proyecto (para especificar las versiones de librerias que utilizaremos y que estas no entren en conflicto con otras versiones de otros proyectos, entre otras cosas) crearemos un entorno virtual. Esto se hace moviendose (puede ser a través del comando **cd directorio_padre/directorio_hijo/etc...** en la terminal) en la terminal hasta el directorio en donde almacenaremos nuestro proyecto, y luego, ejecutando el siguiente comando en la terminal:\n",
    "\n",
    "**`pip -m venv nombre_del_entorno`**\n",
    "\n",
    "### **Activación del Entorno Virtual**\n",
    "Una vez creado el entorno virtual (aparecera una carpeta en el directorio del proyecto con el nombre del entorno), antes de instalar las dependencias y requerimientos, es necesario activar o poner en uso el entorno, y esto se hara a través del siguiente comando en la terminal:\n",
    "\n",
    "**`pip nombre_del_entorno/Scripts/activate.bat`**\n",
    "\n",
    "### **Instalación de dependencias y requerimientos**\n",
    "Una vez activado el entorno se procede a instalar las dependencias o requerimientos del proyecto. Esto se hará apoyandose del archivo **'requirements.txt'** (con el formato: *libreria==version*) en el cual figuran especificadas las librerias a utilizar con sus respectivas versiones (se utilizará requests, sqlalchemy, os, glob, pandas, datetime, configparser, json y pprint). Estas instalaciones se haran a través del siguiente comando en la terminal:\n",
    "\n",
    "**`pip install -r requirements.txt`**"
   ]
  },
  {
   "cell_type": "markdown",
   "metadata": {},
   "source": [
    "### **Proceso de Ejecucion**\n",
    "**Se deberan seguir los siguientes pasos para poner el proyecto en funcionamiento:**\n",
    "- Primero ejecutar el archivo **`Incremental_Extraction_API.ipynb`** para realizar la extraccion incremental y el guardado del dataframe resultante en formato parquet.\n",
    "- Segundo ejecutar el archivo **`Full_Extraction_API.ipynb`** para realizar la extraccion full y el guardado del dataframe resultante en formato parquet.\n",
    "- Tercero ejecutar el archivo **`Creation_and_Filling_of_the_Datawarehouse.ipynb`** para crear los esquemas y las tablas del datawarehouse en una base de datos PostgreSQL almacenda en Aiven, y llenar las tablas de dimensiones.\n",
    "- Cuarto, y por ultimo, ejecutar el archivo **`Processing_and_Storage_in_Datawarehouse.ipynb`** para leer los archivos parquet guardados anteriormente, crear dataframes con ellos, procesarlos, y almacenarlos en un datawarehouse."
   ]
  }
 ],
 "metadata": {
  "language_info": {
   "name": "python"
  }
 },
 "nbformat": 4,
 "nbformat_minor": 2
}
