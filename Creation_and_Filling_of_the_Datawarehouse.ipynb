{
 "cells": [
  {
   "cell_type": "markdown",
   "metadata": {},
   "source": [
    "# **Creacion del Datawarehouse y Llenado de las Tablas de Dimensiones**\n",
    "El datawarehouse sera implementado en una base de datos PostgreSQL alojada en Aiven. Este datawarehouse tendrá un área de staging, que contendrá una tabla `bautistalavielle_historical_market_depth` y otra `bautistalavielle_aggregates`.\n",
    "En el [modelo dimensional](https://miro.com/app/board/uXjVKaplXV0=/?share_link_id=415454751190), tendremos:\n",
    "- Tablas de hechos: `bautistalavielle_historical_market_depth_fact` y `bautistalavielle_aggregates_fact`\n",
    "- Tablas de dimensiones: `bautistalavielle_cryptos_dim`, `bautistalavielle_dates_dim` y `bautistalavielle_times_dim`"
   ]
  },
  {
   "cell_type": "markdown",
   "metadata": {},
   "source": [
    "#### **Importacion de Librerias**"
   ]
  },
  {
   "cell_type": "code",
   "execution_count": 1,
   "metadata": {},
   "outputs": [],
   "source": [
    "#Importo todas las Librerias que utilizaré\n",
    "\n",
    "from sqlalchemy import text\n",
    "from utils_db import *\n",
    "from utils_parquet import *\n",
    "from utils_processing import *"
   ]
  },
  {
   "cell_type": "markdown",
   "metadata": {},
   "source": [
    "#### **Coneccion a la Base de Datos PostgreSQL Alojada en Aiven**"
   ]
  },
  {
   "cell_type": "code",
   "execution_count": 2,
   "metadata": {},
   "outputs": [],
   "source": [
    "#Me conecto a la base de datos con los datos de conexión y credenciales a Postgres almacenados en el archivo \n",
    "#de configuración 'pipeline.conf', en la seccion 'postgres', utilizando connect_to_db() de utils_db.py\n",
    "engine = connect_to_db(\n",
    "    \"pipeline.conf\",\n",
    "    \"postgres\"\n",
    "    )\n",
    "\n",
    "conn = engine.connect()"
   ]
  },
  {
   "cell_type": "markdown",
   "metadata": {},
   "source": [
    "#### **Creación de Tablas con sus Constraints**"
   ]
  },
  {
   "cell_type": "code",
   "execution_count": 3,
   "metadata": {},
   "outputs": [],
   "source": [
    "create_query = text(\n",
    "        \"\"\"\n",
    "        BEGIN;\n",
    "\n",
    "        -- Crear el esquema 'stage'\n",
    "        CREATE SCHEMA IF NOT EXISTS stage;\n",
    "\n",
    "        -- Crear la tabla 'bautistalavielle_historical_market_depth' en 'stage'\n",
    "        CREATE TABLE IF NOT EXISTS stage.bautistalavielle_historical_market_depth (\n",
    "            historical_market_depth_id BIGINT PRIMARY KEY NOT NULL,\n",
    "            symbol VARCHAR(50) NOT NULL,\n",
    "            price FLOAT,\n",
    "            quantity FLOAT,\n",
    "            date DATE NOT NULL,\n",
    "            hour_minute_second TIME NOT NULL\n",
    "        );\n",
    "\n",
    "        -- Crear la tabla 'bautistalavielle_aggregates' en 'stage'\n",
    "        CREATE TABLE IF NOT EXISTS stage.bautistalavielle_aggregates (\n",
    "            aggregates_id BIGINT PRIMARY KEY NOT NULL,\n",
    "            symbol VARCHAR(50) NOT NULL,\n",
    "            open_price FLOAT,\n",
    "            close_price FLOAT,\n",
    "            open_close_difference FLOAT,\n",
    "            high_price FLOAT,\n",
    "            low_price FLOAT,\n",
    "            max_daily_difference FLOAT,\n",
    "            volume FLOAT,\n",
    "            date DATE NOT NULL\n",
    "        );\n",
    "\n",
    "        -- Crear el esquema 'datawarehouse'\n",
    "        CREATE SCHEMA IF NOT EXISTS datawarehouse;\n",
    "\n",
    "        -- Crear la tabla 'bautistalavielle_cryptos_dim' en 'datawarehouse'\n",
    "        CREATE TABLE IF NOT EXISTS datawarehouse.bautistalavielle_cryptos_dim (\n",
    "            crypto_id SERIAL PRIMARY KEY NOT NULL,\n",
    "            name VARCHAR(50) DEFAULT NULL,\n",
    "            symbol VARCHAR(50) NOT NULL\n",
    "        );\n",
    "\n",
    "        -- Crear la tabla 'bautistalavielle_dates_dim' en 'datawarehouse'\n",
    "        CREATE TABLE IF NOT EXISTS datawarehouse.bautistalavielle_dates_dim (\n",
    "            date_id BIGINT PRIMARY KEY NOT NULL,\n",
    "            day INT NOT NULL,\n",
    "            month INT NOT NULL,\n",
    "            year INT NOT NULL,\n",
    "            quarter INT NOT NULL,\n",
    "            day_of_week INT NOT NULL,\n",
    "            day_of_month INT NOT NULL\n",
    "        );\n",
    "\n",
    "        -- Crear la tabla 'bautistalavielle_times_dim' en 'datawarehouse'\n",
    "        CREATE TABLE IF NOT EXISTS datawarehouse.bautistalavielle_times_dim (\n",
    "            time_id BIGINT PRIMARY KEY NOT NULL,\n",
    "            hour INT NOT NULL,\n",
    "            minute INT NOT NULL,\n",
    "            second INT NOT NULL\n",
    "        );\n",
    "\n",
    "        -- Crear la tabla 'bautistalavielle_historical_market_depth_fact' en 'datawarehouse'\n",
    "        CREATE TABLE IF NOT EXISTS datawarehouse.bautistalavielle_historical_market_depth_fact (\n",
    "            historical_market_depth_id BIGINT PRIMARY KEY NOT NULL,\n",
    "            symbol_id INT NOT NULL,\n",
    "            price FLOAT,\n",
    "            quantity FLOAT,\n",
    "            historical_market_depth_date_id INT NOT NULL,\n",
    "            historical_market_depth_time_id INT NOT NULL,\n",
    "            FOREIGN KEY (symbol_id) REFERENCES datawarehouse.bautistalavielle_cryptos_dim(crypto_id),\n",
    "            FOREIGN KEY (historical_market_depth_date_id) REFERENCES datawarehouse.bautistalavielle_dates_dim(date_id),\n",
    "            FOREIGN KEY (historical_market_depth_time_id) REFERENCES datawarehouse.bautistalavielle_times_dim(time_id)\n",
    "        );\n",
    "\n",
    "        -- Crear la tabla 'bautistalavielle_aggregates_fact' en 'datawarehouse'\n",
    "        CREATE TABLE IF NOT EXISTS datawarehouse.bautistalavielle_aggregates_fact (\n",
    "            aggregates_id BIGINT PRIMARY KEY NOT NULL,\n",
    "            symbol_id INT NOT NULL,\n",
    "            open_price FLOAT,\n",
    "            close_price FLOAT,\n",
    "            open_close_difference FLOAT,\n",
    "            high_price FLOAT,\n",
    "            low_price FLOAT,\n",
    "            max_daily_difference FLOAT,\n",
    "            volume FLOAT,\n",
    "            aggregates_date_id INT NOT NULL,\n",
    "            FOREIGN KEY (symbol_id) REFERENCES datawarehouse.bautistalavielle_cryptos_dim(crypto_id),\n",
    "            FOREIGN KEY (aggregates_date_id) REFERENCES datawarehouse.bautistalavielle_dates_dim(date_id)\n",
    "        );\n",
    "\n",
    "        COMMIT;\n",
    "        \"\"\"\n",
    "    )\n",
    "\n",
    "with engine.connect() as conn:\n",
    "    conn.execute(create_query)"
   ]
  },
  {
   "cell_type": "markdown",
   "metadata": {},
   "source": [
    "#### **Carga de la Tabla `'bautistalavielle_dates_dim'` de `'datawarehouse'`**\n",
    "Se cargara con todos los dias del año 2020, colocando en `date_id` un entero con el formato **YYMMDD** donde **YY** seran las dos ultimas cifras del año, **MM** el mes, y **DD** el dia correspondiente a la fecha"
   ]
  },
  {
   "cell_type": "code",
   "execution_count": 4,
   "metadata": {},
   "outputs": [],
   "source": [
    "insert_query = text(\n",
    "        \"\"\"\n",
    "        BEGIN;\n",
    "        INSERT INTO datawarehouse.bautistalavielle_dates_dim (date_id, day, month, year, quarter, day_of_week, day_of_month)\n",
    "        SELECT\n",
    "            TO_NUMBER(TO_CHAR(d, 'YYMMDD'), '999999') AS date_id,\n",
    "            EXTRACT(DOY FROM d) AS day,\n",
    "            EXTRACT(MONTH FROM d) AS month,\n",
    "            EXTRACT(YEAR FROM d) AS year,\n",
    "            EXTRACT(QUARTER FROM d) AS quarter,\n",
    "            EXTRACT(ISODOW FROM d) AS day_of_week,\n",
    "            EXTRACT(DAY FROM d) AS day_of_month\n",
    "        FROM\n",
    "            GENERATE_SERIES('2020-01-01'::DATE, '2020-12-31'::DATE, '1 DAY'::INTERVAL) AS d;\n",
    "        COMMIT;\n",
    "        \"\"\"\n",
    "        )\n",
    "\n",
    "with engine.connect() as conn:\n",
    "    conn.execute(insert_query)"
   ]
  },
  {
   "cell_type": "markdown",
   "metadata": {},
   "source": [
    "#### **Carga de la Tabla `'bautistalavielle_times_dim'` de `'datawarehouse'`**\n",
    "Se cargara con todos las horas, minutos y segundos de un dia, colocando en `time_id` un entero con el formato **HHMMSS** donde **HH** sera la hora, **MM** los minutos, y **SS** los segundos correspondientes."
   ]
  },
  {
   "cell_type": "code",
   "execution_count": 5,
   "metadata": {},
   "outputs": [],
   "source": [
    "insert_query = text(\n",
    "        \"\"\"\n",
    "        BEGIN;\n",
    "        INSERT INTO datawarehouse.bautistalavielle_times_dim (time_id, hour, minute, second)\n",
    "        SELECT\n",
    "            (date_part('hour', payment_time) * 10000) + (date_part('minute', payment_time) * 100) + date_part('second', payment_time) AS time_id,\n",
    "            date_part('hour', payment_time) AS hour,\n",
    "            date_part('minute', payment_time) AS minute,\n",
    "            date_part('second', payment_time) AS second\n",
    "        FROM (\n",
    "            SELECT \n",
    "                (generate_series || ' seconds')::interval AS payment_time\n",
    "            FROM generate_series(0, 86399, 1) AS generate_series\n",
    "        ) AS times;\n",
    "        COMMIT;\n",
    "        \"\"\"\n",
    "        )\n",
    "\n",
    "with engine.connect() as conn:\n",
    "    conn.execute(insert_query)"
   ]
  },
  {
   "cell_type": "markdown",
   "metadata": {},
   "source": [
    "#### **Carga de la Tabla `'bautistalavielle_cryptos_dim'` de `'datawarehouse'`**"
   ]
  },
  {
   "cell_type": "code",
   "execution_count": 6,
   "metadata": {},
   "outputs": [],
   "source": [
    "insert_query = text(\n",
    "        \"\"\"\n",
    "        BEGIN;\n",
    "        INSERT INTO datawarehouse.bautistalavielle_cryptos_dim (name, symbol)\n",
    "        VALUES\n",
    "            ('Bitcoin', 'BTCUSD'),\n",
    "            ('Ethereum', 'ETHUSD'),\n",
    "            ('Cardano', 'ADAUSD'),\n",
    "            ('Dogecoin', 'DOGEUSD');\n",
    "        COMMIT;\n",
    "        \"\"\"\n",
    "        )\n",
    "\n",
    "with engine.connect() as conn:\n",
    "    conn.execute(insert_query)"
   ]
  }
 ],
 "metadata": {
  "kernelspec": {
   "display_name": "utn_env_de",
   "language": "python",
   "name": "python3"
  },
  "language_info": {
   "codemirror_mode": {
    "name": "ipython",
    "version": 3
   },
   "file_extension": ".py",
   "mimetype": "text/x-python",
   "name": "python",
   "nbconvert_exporter": "python",
   "pygments_lexer": "ipython3",
   "version": "3.11.5"
  }
 },
 "nbformat": 4,
 "nbformat_minor": 2
}
